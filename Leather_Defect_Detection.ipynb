{
  "nbformat": 4,
  "nbformat_minor": 0,
  "metadata": {
    "colab": {
      "provenance": []
    },
    "kernelspec": {
      "name": "python3",
      "display_name": "Python 3"
    },
    "language_info": {
      "name": "python"
    },
    "gpuClass": "standard",
    "accelerator": "GPU"
  },
  "cells": [
    {
      "cell_type": "code",
      "execution_count": null,
      "metadata": {
        "id": "i44nEbzCWDjv"
      },
      "outputs": [],
      "source": [
        "# importing the libraries\n",
        "import random\n",
        "import numpy as np\n",
        "import cv2\n",
        "from google.colab.patches import cv2_imshow\n",
        "import matplotlib.pyplot as plt\n",
        "import torch\n",
        "import torch.nn as nn\n",
        "import torch.nn.functional as F\n",
        "from torch.utils.data import DataLoader, Dataset, random_split\n",
        "from keras.utils.np_utils import to_categorical\n",
        "import torchvision\n",
        "import torchvision.transforms as transforms\n",
        "%matplotlib inline"
      ]
    },
    {
      "cell_type": "code",
      "source": [
        "# mounting drive to access the dataset\n",
        "from google.colab import drive\n",
        "drive.mount('/content/drive')"
      ],
      "metadata": {
        "colab": {
          "base_uri": "https://localhost:8080/"
        },
        "id": "wbpSEgBse82X",
        "outputId": "409864a3-414f-4f96-8016-423d132afb38"
      },
      "execution_count": null,
      "outputs": [
        {
          "output_type": "stream",
          "name": "stdout",
          "text": [
            "Mounted at /content/drive\n"
          ]
        }
      ]
    },
    {
      "cell_type": "code",
      "source": [
        "\"\"\"Upload the dataset in zip format to your drive\"\"\"\n",
        "\n",
        "!unzip \"/content/drive/MyDrive/archive.zip\""
      ],
      "metadata": {
        "id": "_eCQtQ2ikWOM"
      },
      "execution_count": null,
      "outputs": []
    },
    {
      "cell_type": "code",
      "source": [
        "# Removing the two outlier images from the dataset\n",
        "# Resizing was an expensive operation so I just went ahead with this\n",
        "\n",
        "import os \n",
        "for file in os.listdir(\"/content/Leather Defect Classification/Grain off\"):\n",
        "  img = cv2.imread(f\"/content/Leather Defect Classification/Grain off/{file}\")\n",
        "  if img.shape == (3288, 4608, 3):\n",
        "    print(file)\n",
        "    os.remove(f\"/content/Leather Defect Classification/Grain off/{file}\")\n",
        "    break\n",
        "    \n",
        "for file in os.listdir(\"/content/Leather Defect Classification/pinhole\"):\n",
        "  img = cv2.imread(f\"/content/Leather Defect Classification/pinhole/{file}\")\n",
        "  if img.shape == (3288, 4608, 3):\n",
        "    print(file)\n",
        "    os.remove(f\"/content/Leather Defect Classification/pinhole/{file}\")\n",
        "    break"
      ],
      "metadata": {
        "colab": {
          "base_uri": "https://localhost:8080/"
        },
        "id": "qPHV-OO7fiuS",
        "outputId": "9e7b4219-5155-43a6-9e44-0651f6a197c3"
      },
      "execution_count": null,
      "outputs": [
        {
          "output_type": "stream",
          "name": "stdout",
          "text": [
            "Grain off 01 (327).jpg\n",
            "Pinhole 01 (465).jpg\n"
          ]
        }
      ]
    },
    {
      "cell_type": "code",
      "source": [
        "# augmenting data with random mirroring of images and normalizing it\n",
        "hflip = transforms.RandomHorizontalFlip(p=0.5)\n",
        "train_transform = transforms.Compose([hflip, transforms.ToTensor(), transforms.Normalize(mean=[0.5, 0.5, 0.5], std=[0.5, 0.5, 0.5])])"
      ],
      "metadata": {
        "id": "xGwyGt-42rRG"
      },
      "execution_count": null,
      "outputs": []
    },
    {
      "cell_type": "code",
      "source": [
        "# creating the dataset\n",
        "dataset = torchvision.datasets.ImageFolder(root=\"/content/Leather Defect Classification\", transform=train_transform)"
      ],
      "metadata": {
        "id": "neJ8Lb_BL3xv"
      },
      "execution_count": null,
      "outputs": []
    },
    {
      "cell_type": "code",
      "source": [
        "# dividing the dataset into train and test sets\n",
        "train_dataset, test_dataset = random_split(dataset, lengths=[3300, 298])"
      ],
      "metadata": {
        "id": "a3fNk0m1FYr0"
      },
      "execution_count": null,
      "outputs": []
    },
    {
      "cell_type": "code",
      "source": [
        "# the dataloaders with 2 worker processes each\n",
        "train_loader = DataLoader(train_dataset, batch_size=32, num_workers=2)\n",
        "test_loader = DataLoader(test_dataset, batch_size=64, num_workers=2)"
      ],
      "metadata": {
        "id": "Gj8ZhzYrTQ1Y"
      },
      "execution_count": null,
      "outputs": []
    },
    {
      "cell_type": "code",
      "source": [
        "len(train_dataset), len(test_dataset)"
      ],
      "metadata": {
        "colab": {
          "base_uri": "https://localhost:8080/"
        },
        "id": "YD7YopSQV0KH",
        "outputId": "c1b330ac-f45b-4de7-c180-303b99b86d8e"
      },
      "execution_count": null,
      "outputs": [
        {
          "output_type": "execute_result",
          "data": {
            "text/plain": [
              "(3300, 298)"
            ]
          },
          "metadata": {},
          "execution_count": 9
        }
      ]
    },
    {
      "cell_type": "code",
      "source": [
        "# selecting the GPU for training\n",
        "device = torch.device(\"cuda:0\")\n",
        "device"
      ],
      "metadata": {
        "colab": {
          "base_uri": "https://localhost:8080/"
        },
        "id": "b5IWGFfnuCrH",
        "outputId": "efb70f52-f60b-4aa9-fbe2-0af210c2e589"
      },
      "execution_count": null,
      "outputs": [
        {
          "output_type": "execute_result",
          "data": {
            "text/plain": [
              "device(type='cuda', index=0)"
            ]
          },
          "metadata": {},
          "execution_count": 10
        }
      ]
    },
    {
      "cell_type": "code",
      "source": [
        "class CNN_Model(nn.Module):\n",
        "  def __init__(self):\n",
        "    super().__init__()\n",
        "    self.convolutional_layers = nn.Sequential(\n",
        "        nn.Conv2d(in_channels=3, out_channels=6, kernel_size=3, stride=1),      # out size will be 6 x 225 x 225\n",
        "        nn.ReLU(),\n",
        "        nn.Conv2d(in_channels=6, out_channels=10, kernel_size=5, stride=1),     # out size will be 10 x 221 x 221\n",
        "        nn.ReLU(),\n",
        "        nn.MaxPool2d(kernel_size=2, stride=2),                                  # out size will be 10 x 110 x 110\n",
        "        nn.Conv2d(in_channels=10, out_channels=10, kernel_size=1, stride=1),    # out size will be 10 x 110 x 110\n",
        "        nn.Conv2d(in_channels=10, out_channels=25, kernel_size=3, stride=2),    # out size will be 25 x 54 x 54\n",
        "        nn.ReLU(),\n",
        "        nn.MaxPool2d(kernel_size=2, stride=2),                                  # out size will be 25 x 27 x 26\n",
        "        nn.Conv2d(in_channels=25, out_channels=50, kernel_size=5, stride=2),    # out size will be 50 x 12 x 12\n",
        "        nn.ReLU(),\n",
        "        nn.Conv2d(in_channels=50, out_channels=100, kernel_size=3, stride=1),   # out size will be 100 x 10 x 10\n",
        "        nn.ReLU(),\n",
        "        nn.MaxPool2d(kernel_size=2, stride=2)                                   # out size will be 100 x 5 x 5\n",
        "    )\n",
        "\n",
        "    self.linear_layers = nn.Sequential(\n",
        "        nn.Linear(2500, 500),\n",
        "        nn.ReLU(),\n",
        "        nn.Linear(500, 75),\n",
        "        nn.ReLU(),\n",
        "        nn.Linear(75, 6)\n",
        "    )\n",
        "    \n",
        "    self.loss_fn = nn.CrossEntropyLoss(reduction=\"mean\")                        # Loss function with mean reduction to prevent overflow\n",
        "    self.optimizer = torch.optim.Adam(self.parameters(), lr=0.001)              # Adam optimizer with default hyperparameters\n",
        "    self.train_loader = train_loader\n",
        "    self.test_loader = test_loader\n",
        "  \n",
        "  def feed_forward(self, X):\n",
        "    z = self.convolutional_layers(X)\n",
        "    z_linear = z.reshape(z.shape[0], -1)\n",
        "    out = self.linear_layers(z_linear)\n",
        "    return out\n",
        "\n",
        "  def backward(self, predictions, y):\n",
        "    loss = self.loss_fn(predictions, y)\n",
        "    loss.backward()\n",
        "    self.optimizer.step()\n",
        "    self.optimizer.zero_grad()\n",
        "\n",
        "  def accuracy(self):\n",
        "    count = 0\n",
        "    total = 0\n",
        "    for batch, target in self.test_loader:\n",
        "      batch = batch.to(device)\n",
        "      target = target.to(device)\n",
        "      preds = self.feed_forward(batch)\n",
        "      preds.to(device)\n",
        "      correct_preds = torch.sum((torch.argmax(preds, axis=1) == target))\n",
        "      count += correct_preds\n",
        "      total += batch.shape[0]\n",
        "    return count / total\n",
        "\n",
        "\n",
        "  def fit(self, epochs):\n",
        "    for i in range(epochs):\n",
        "      for batch in self.train_loader:\n",
        "        X, y = batch\n",
        "        X = X.to(device)\n",
        "        y = y.to(device)\n",
        "        preds = self.feed_forward(X)\n",
        "        preds.to(device)\n",
        "        self.backward(preds, y)\n",
        "      print(f\"Accuracy at epoch {i+1}: {round(self.accuracy().item(), 4)}\")\n"
      ],
      "metadata": {
        "id": "5nvBKbidZr-o"
      },
      "execution_count": null,
      "outputs": []
    },
    {
      "cell_type": "code",
      "source": [
        "# loading the trained model from drive for inferences\n",
        "model = torch.load(\"/content/drive/MyDrive/trained_model.pth\")\n",
        "model"
      ],
      "metadata": {
        "id": "wMuDuyA7PX01"
      },
      "execution_count": null,
      "outputs": []
    },
    {
      "cell_type": "code",
      "source": [
        "model.fit(20)"
      ],
      "metadata": {
        "id": "cyPPT36ATc4f",
        "colab": {
          "base_uri": "https://localhost:8080/"
        },
        "outputId": "6a66929f-25b7-46b8-c5b3-5532ba5bfc43"
      },
      "execution_count": null,
      "outputs": [
        {
          "output_type": "stream",
          "name": "stdout",
          "text": [
            "Accuracy at epoch 1: 0.4291\n",
            "Accuracy at epoch 2: 0.4497\n",
            "Accuracy at epoch 3: 0.6167\n",
            "Accuracy at epoch 4: 0.6036\n",
            "Accuracy at epoch 5: 0.6015\n",
            "Accuracy at epoch 6: 0.717\n",
            "Accuracy at epoch 7: 0.76\n",
            "Accuracy at epoch 8: 0.7515\n",
            "Accuracy at epoch 9: 0.7694\n",
            "Accuracy at epoch 10: 0.8418\n",
            "Accuracy at epoch 11: 0.7324\n",
            "Accuracy at epoch 12: 0.7515\n",
            "Accuracy at epoch 13: 0.7103\n",
            "Accuracy at epoch 14: 0.8245\n",
            "Accuracy at epoch 15: 0.8097\n",
            "Accuracy at epoch 16: 0.8294\n",
            "Accuracy at epoch 17: 0.8136\n",
            "Accuracy at epoch 18: 0.8521\n",
            "Accuracy at epoch 19: 0.8442\n",
            "Accuracy at epoch 20: 0.8706\n"
          ]
        }
      ]
    },
    {
      "cell_type": "code",
      "source": [
        "# helper functions\n",
        "def forward_single_image(model, img):\n",
        "    img = img.to(device)\n",
        "    z = model.convolutional_layers(img)\n",
        "    z_linear = z.reshape(1, -1)\n",
        "    out = model.linear_layers(z_linear)\n",
        "    return out\n",
        "\n",
        "def convert(img):\n",
        "  x = (img.cpu().numpy()*0.5 + 0.5) * 256\n",
        "  x = np.moveaxis(x, 0, -1)\n",
        "  return x.astype(\"uint8\")\n",
        "\n",
        "# the predict function\n",
        "def predict(model, test_dataset):\n",
        "  indices = [random.randint(0, len(test_dataset)) for _ in range(9)]\n",
        "  fig, axes = plt.subplots(nrows=3, ncols=3)\n",
        "  for i, axis in enumerate(axes.flat):\n",
        "    img, label = test_dataset[indices[i]]\n",
        "    img = img.to(device)\n",
        "    pred = torch.argmax(forward_single_image(model, img))\n",
        "    img = convert(img)\n",
        "    axis.imshow(img)\n",
        "    axis.set_title(f\"Label:{label}, Prediction: {pred}\")\n",
        "  plt.tight_layout(True)\n"
      ],
      "metadata": {
        "id": "SmiN8TO61n1t"
      },
      "execution_count": null,
      "outputs": []
    },
    {
      "cell_type": "code",
      "source": [
        "predict(model, test_dataset)"
      ],
      "metadata": {
        "colab": {
          "base_uri": "https://localhost:8080/",
          "height": 299
        },
        "id": "5zB1uchCrRhl",
        "outputId": "1ccf4322-c027-4bde-aea8-7c5c429aae2a"
      },
      "execution_count": null,
      "outputs": [
        {
          "output_type": "display_data",
          "data": {
            "text/plain": [
              "<Figure size 432x288 with 9 Axes>"
            ],
            "image/png": "[encoded data removed]"
          },
          "metadata": {
            "needs_background": "light"
          }
        }
      ]
    }
  ]
}